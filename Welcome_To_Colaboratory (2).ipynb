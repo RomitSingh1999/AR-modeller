{
  "nbformat": 4,
  "nbformat_minor": 2,
  "metadata": {
    "colab": {
      "name": "Welcome To Colaboratory",
      "provenance": [],
      "collapsed_sections": []
    },
    "kernelspec": {
      "name": "python3",
      "display_name": "Python 3.9.6 64-bit"
    },
    "accelerator": "GPU",
    "language_info": {
      "name": "python",
      "version": "3.9.6",
      "mimetype": "text/x-python",
      "codemirror_mode": {
        "name": "ipython",
        "version": 3
      },
      "pygments_lexer": "ipython3",
      "nbconvert_exporter": "python",
      "file_extension": ".py"
    },
    "interpreter": {
      "hash": "571f956b4ff862aee6777ce53385288f454e61560949a9724c78ce36ae09a73c"
    }
  },
  "cells": [
    {
      "cell_type": "code",
      "execution_count": 2,
      "source": [
        "!git clone https://github.com/facebookresearch/pifuhd"
      ],
      "outputs": [
        {
          "output_type": "stream",
          "name": "stderr",
          "text": [
            "fatal: destination path 'pifuhd' already exists and is not an empty directory.\n"
          ]
        }
      ],
      "metadata": {
        "id": "TbOLZa5PT7wY"
      }
    },
    {
      "cell_type": "code",
      "execution_count": 3,
      "source": [
        "# !pip install pytorch3d\r\n",
        "!pip install 'git+https://github.com/facebookresearch/pytorch3d.git'\r\n",
        "\r\n",
        "# If you get an error in the next cell, you can instead try the following command (don't forget to comment out the one above!).\r\n",
        "# Note that this error is caused by inconsistent cuda version for the pytorch3d package and pytorch in Colab environment.\r\n",
        "# Thus, this issue may persist unless pytorch3d in the pip package is updated with the cuda version consistent with pytorch in Colab.\r\n",
        "# Also please be aware that the following command is much slower as it builds pytorch3d from scratch.\r\n",
        "\r\n",
        "# !pip install 'git+https://github.com/facebookresearch/pytorch3d.git@stable'\r\n",
        "\r\n",
        "# You can try another solution below as well. This is also slow and requires you to restart the runtime.\r\n",
        "\r\n",
        "# !pip install 'torch==1.6.0+cu101' -f https://download.pytorch.org/whl/torch_stable.html\r\n",
        "# !pip install 'torchvision==0.7.0+cu101' -f https://download.pytorch.org/whl/torch_stable.html\r\n",
        "# !pip install 'pytorch3d==0.2.5'"
      ],
      "outputs": [
        {
          "output_type": "stream",
          "name": "stderr",
          "text": [
            "ERROR: Invalid requirement: \"'git+https://github.com/facebookresearch/pytorch3d.git'\"\n",
            "WARNING: You are using pip version 21.1.3; however, version 21.2.4 is available.\n",
            "You should consider upgrading via the 'c:\\users\\romit\\appdata\\local\\programs\\python\\python39\\python.exe -m pip install --upgrade pip' command.\n"
          ]
        }
      ],
      "metadata": {
        "id": "XIHU812GVUWj"
      }
    },
    {
      "cell_type": "code",
      "execution_count": 5,
      "source": [
        "cd /content/pifuhd/sample_images"
      ],
      "outputs": [
        {
          "output_type": "stream",
          "name": "stdout",
          "text": [
            "[WinError 3] The system cannot find the path specified: '/content/pifuhd/sample_images'\n",
            "c:\\Users\\Romit\\ARproject\n"
          ]
        }
      ],
      "metadata": {
        "id": "dCcNJ4Z9T7zP"
      }
    },
    {
      "cell_type": "code",
      "execution_count": 1,
      "source": [
        "import os\r\n",
        "\r\n",
        "try:\r\n",
        "  image_path = '/content/pifuhd/sample_images/test.png'\r\n",
        "except:\r\n",
        "  image_path = '/content/pifuhd/sample_images/test.png' # example image\r\n",
        "image_dir = os.path.dirname(image_path)\r\n",
        "file_name = os.path.splitext(os.path.basename(image_path))[0]\r\n",
        "\r\n",
        "# output pathes\r\n",
        "obj_path = './pifuhd/results/pifuhd_final/recon/result_%s_256.obj' % file_name\r\n",
        "out_img_path = './pifuhd/results/pifuhd_final/recon/result_%s_256.png' % file_name\r\n",
        "video_path = './pifuhd/results/pifuhd_final/recon/result_%s_256.mp4' % file_name\r\n",
        "video_display_path = './pifuhd/results/pifuhd_final/result_%s_256_display.mp4' % file_name"
      ],
      "outputs": [],
      "metadata": {
        "id": "eTiBNcZJT71f"
      }
    },
    {
      "cell_type": "code",
      "execution_count": 2,
      "source": [
        "!git clone https://github.com/Daniil-Osokin/lightweight-human-pose-estimation.pytorch.git"
      ],
      "outputs": [
        {
          "output_type": "stream",
          "name": "stderr",
          "text": [
            "fatal: destination path 'lightweight-human-pose-estimation.pytorch' already exists and is not an empty directory.\n"
          ]
        }
      ],
      "metadata": {
        "id": "i1xnOjDTT734"
      }
    },
    {
      "cell_type": "code",
      "execution_count": 5,
      "source": [
        "cd ./lightweight-human-pose-estimation.pytorch/"
      ],
      "outputs": [
        {
          "output_type": "stream",
          "name": "stdout",
          "text": [
            "c:\\Users\\Romit\\ARproject\\lightweight-human-pose-estimation.pytorch\n"
          ]
        }
      ],
      "metadata": {
        "id": "dK2mn7juT76H"
      }
    },
    {
      "cell_type": "code",
      "execution_count": 4,
      "source": [
        "!wget https://download.01.org/opencv/openvino_training_extensions/models/human_pose_estimation/checkpoint_iter_370000.pth"
      ],
      "outputs": [
        {
          "output_type": "stream",
          "name": "stderr",
          "text": [
            "'wget' is not recognized as an internal or external command,\n",
            "operable program or batch file.\n"
          ]
        }
      ],
      "metadata": {
        "id": "i7FoUmOZT78X"
      }
    },
    {
      "cell_type": "code",
      "execution_count": null,
      "source": [
        "import torch\r\n",
        "import cv2\r\n",
        "import numpy as np\r\n",
        "from models.with_mobilenet import PoseEstimationWithMobileNet\r\n",
        "from modules.keypoints import extract_keypoints, group_keypoints\r\n",
        "from modules.load_state import load_state\r\n",
        "from modules.pose import Pose, track_poses\r\n",
        "import demo\r\n",
        "\r\n",
        "def get_rect(net, images, height_size):\r\n",
        "    net = net.eval()\r\n",
        "\r\n",
        "    stride = 8\r\n",
        "    upsample_ratio = 4\r\n",
        "    num_keypoints = Pose.num_kpts\r\n",
        "    previous_poses = []\r\n",
        "    delay = 33\r\n",
        "    for image in images:\r\n",
        "        rect_path = image.replace('.%s' % (image.split('.')[-1]), '_rect.txt')\r\n",
        "        img = cv2.imread(image, cv2.IMREAD_COLOR)\r\n",
        "        orig_img = img.copy()\r\n",
        "        orig_img = img.copy()\r\n",
        "        heatmaps, pafs, scale, pad = demo.infer_fast(net, img, height_size, stride, upsample_ratio, cpu=False)\r\n",
        "\r\n",
        "        total_keypoints_num = 0\r\n",
        "        all_keypoints_by_type = []\r\n",
        "        for kpt_idx in range(num_keypoints):  # 19th for bg\r\n",
        "            total_keypoints_num += extract_keypoints(heatmaps[:, :, kpt_idx], all_keypoints_by_type, total_keypoints_num)\r\n",
        "\r\n",
        "        pose_entries, all_keypoints = group_keypoints(all_keypoints_by_type, pafs)\r\n",
        "        for kpt_id in range(all_keypoints.shape[0]):\r\n",
        "            all_keypoints[kpt_id, 0] = (all_keypoints[kpt_id, 0] * stride / upsample_ratio - pad[1]) / scale\r\n",
        "            all_keypoints[kpt_id, 1] = (all_keypoints[kpt_id, 1] * stride / upsample_ratio - pad[0]) / scale\r\n",
        "        current_poses = []\r\n",
        "\r\n",
        "        rects = []\r\n",
        "        for n in range(len(pose_entries)):\r\n",
        "            if len(pose_entries[n]) == 0:\r\n",
        "                continue\r\n",
        "            pose_keypoints = np.ones((num_keypoints, 2), dtype=np.int32) * -1\r\n",
        "            valid_keypoints = []\r\n",
        "            for kpt_id in range(num_keypoints):\r\n",
        "                if pose_entries[n][kpt_id] != -1.0:  # keypoint was found\r\n",
        "                    pose_keypoints[kpt_id, 0] = int(all_keypoints[int(pose_entries[n][kpt_id]), 0])\r\n",
        "                    pose_keypoints[kpt_id, 1] = int(all_keypoints[int(pose_entries[n][kpt_id]), 1])\r\n",
        "                    valid_keypoints.append([pose_keypoints[kpt_id, 0], pose_keypoints[kpt_id, 1]])\r\n",
        "            valid_keypoints = np.array(valid_keypoints)\r\n",
        "            \r\n",
        "            if pose_entries[n][10] != -1.0 or pose_entries[n][13] != -1.0:\r\n",
        "              pmin = valid_keypoints.min(0)\r\n",
        "              pmax = valid_keypoints.max(0)\r\n",
        "\r\n",
        "              center = (0.5 * (pmax[:2] + pmin[:2])).astype(np.int)\r\n",
        "              radius = int(0.65 * max(pmax[0]-pmin[0], pmax[1]-pmin[1]))\r\n",
        "            elif pose_entries[n][10] == -1.0 and pose_entries[n][13] == -1.0 and pose_entries[n][8] != -1.0 and pose_entries[n][11] != -1.0:\r\n",
        "              # if leg is missing, use pelvis to get cropping\r\n",
        "              center = (0.5 * (pose_keypoints[8] + pose_keypoints[11])).astype(np.int)\r\n",
        "              radius = int(1.45*np.sqrt(((center[None,:] - valid_keypoints)**2).sum(1)).max(0))\r\n",
        "              center[1] += int(0.05*radius)\r\n",
        "            else:\r\n",
        "              center = np.array([img.shape[1]//2,img.shape[0]//2])\r\n",
        "              radius = max(img.shape[1]//2,img.shape[0]//2)\r\n",
        "\r\n",
        "            x1 = center[0] - radius\r\n",
        "            y1 = center[1] - radius\r\n",
        "\r\n",
        "            rects.append([x1, y1, 2*radius, 2*radius])\r\n",
        "\r\n",
        "        np.savetxt(rect_path, np.array(rects), fmt='%d')"
      ],
      "outputs": [],
      "metadata": {
        "id": "lFfG48t7T7-w"
      }
    },
    {
      "cell_type": "code",
      "execution_count": null,
      "source": [
        "net = PoseEstimationWithMobileNet()\r\n",
        "checkpoint = torch.load('checkpoint_iter_370000.pth', map_location='cpu')\r\n",
        "load_state(net, checkpoint)\r\n",
        "\r\n",
        "get_rect(net.cuda(), [image_path], 512)"
      ],
      "outputs": [],
      "metadata": {
        "id": "t05IyX7oT8BP"
      }
    },
    {
      "cell_type": "code",
      "execution_count": null,
      "source": [
        "cd /content/pifuhd/"
      ],
      "outputs": [],
      "metadata": {
        "id": "w3FWFoj5T8Dn"
      }
    },
    {
      "cell_type": "code",
      "execution_count": null,
      "source": [
        "\r\n",
        "!sh ./scripts/download_trained_model.sh"
      ],
      "outputs": [],
      "metadata": {
        "id": "7MSiSe6FT8F4"
      }
    },
    {
      "cell_type": "code",
      "execution_count": null,
      "source": [
        "# Warning: all images with the corresponding rectangle files under -i will be processed. \r\n",
        "!python -m apps.simple_test -r 256 --use_rect -i $image_dir\r\n",
        "\r\n",
        "# seems that 256 is the maximum resolution that can fit into Google Colab. \r\n",
        "# If you want to reconstruct a higher-resolution mesh, please try with your own machine. "
      ],
      "outputs": [],
      "metadata": {
        "id": "SBBgmYetT8If"
      }
    },
    {
      "cell_type": "code",
      "execution_count": null,
      "source": [
        "from lib.colab_util import generate_video_from_obj, set_renderer, video\r\n",
        "\r\n",
        "renderer = set_renderer()\r\n",
        "generate_video_from_obj(obj_path, out_img_path, video_path, renderer)\r\n",
        "\r\n",
        "# we cannot play a mp4 video generated by cv2\r\n",
        "!ffmpeg -i $video_path -vcodec libx264 $video_display_path -y -loglevel quiet\r\n",
        "video(video_display_path)"
      ],
      "outputs": [],
      "metadata": {
        "id": "fLrEyy0FT8Kh"
      }
    },
    {
      "cell_type": "code",
      "execution_count": null,
      "source": [],
      "outputs": [],
      "metadata": {
        "id": "bMoCI_RfT8NA"
      }
    },
    {
      "cell_type": "code",
      "execution_count": null,
      "source": [],
      "outputs": [],
      "metadata": {
        "id": "zsRR1LMNT8PX"
      }
    },
    {
      "cell_type": "code",
      "execution_count": null,
      "source": [],
      "outputs": [],
      "metadata": {
        "id": "lG2o7pqaT8R3"
      }
    },
    {
      "cell_type": "code",
      "execution_count": null,
      "source": [],
      "outputs": [],
      "metadata": {
        "id": "1BZoAID_T8UR"
      }
    },
    {
      "cell_type": "code",
      "execution_count": null,
      "source": [],
      "outputs": [],
      "metadata": {
        "id": "hi3cjdrST8Wo"
      }
    },
    {
      "cell_type": "code",
      "execution_count": null,
      "source": [],
      "outputs": [],
      "metadata": {
        "id": "BG9474rST8ZB"
      }
    },
    {
      "cell_type": "code",
      "execution_count": null,
      "source": [],
      "outputs": [],
      "metadata": {
        "id": "XwDl_1InT8bg"
      }
    },
    {
      "cell_type": "code",
      "execution_count": null,
      "source": [],
      "outputs": [],
      "metadata": {
        "id": "zjOP65_OT8d5"
      }
    },
    {
      "cell_type": "code",
      "execution_count": null,
      "source": [],
      "outputs": [],
      "metadata": {
        "id": "KmZfYGTbT8gf"
      }
    }
  ]
}